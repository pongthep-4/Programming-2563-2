{
 "cells": [
  {
   "cell_type": "code",
   "execution_count": 13,
   "metadata": {},
   "outputs": [
    {
     "name": "stdout",
     "output_type": "stream",
     "text": [
      "False\n",
      "True\n"
     ]
    }
   ],
   "source": [
    "class Qeque_byJ :\n",
    "    def __init__(self):\n",
    "        self.items = []\n",
    "    def is_empty(self):\n",
    "        return self.items == []\n",
    "    def add_rear(self,item):\n",
    "        self.items.append(item)\n",
    "    def add_front(self,item):\n",
    "        self.items.insert(0,item)\n",
    "    def remove_rear(self):\n",
    "        return self.items.pop()\n",
    "    def remove_front(self):\n",
    "        return self.items.pop(0)\n",
    "    def size(self):\n",
    "        return len(self.items)\n",
    "    def show(self):\n",
    "        return self.items\n",
    "\n",
    "def Palindrome(text):\n",
    "    \n",
    "    Palindrome = Qeque_byJ()\n",
    "    for string in text :\n",
    "        Palindrome.add_rear(string)\n",
    "    \n",
    "    status = True\n",
    "    \n",
    "    while Palindrome.size() > 1 and status :\n",
    "        front = Palindrome.remove_front()\n",
    "        end = Palindrome.remove_rear()\n",
    "        \n",
    "        if front != end :\n",
    "            status = False\n",
    "    return status\n",
    "\n",
    "\n",
    "print(Palindrome(\"abcdefg\"))\n",
    "print(Palindrome(\"radar\"))"
   ]
  },
  {
   "cell_type": "code",
   "execution_count": null,
   "metadata": {},
   "outputs": [],
   "source": []
  }
 ],
 "metadata": {
  "kernelspec": {
   "display_name": "Python 3",
   "language": "python",
   "name": "python3"
  },
  "language_info": {
   "codemirror_mode": {
    "name": "ipython",
    "version": 3
   },
   "file_extension": ".py",
   "mimetype": "text/x-python",
   "name": "python",
   "nbconvert_exporter": "python",
   "pygments_lexer": "ipython3",
   "version": "3.7.6"
  }
 },
 "nbformat": 4,
 "nbformat_minor": 4
}
