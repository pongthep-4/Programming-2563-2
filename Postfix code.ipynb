{
 "cells": [
  {
   "cell_type": "code",
   "execution_count": null,
   "metadata": {},
   "outputs": [],
   "source": [
    "class Stack:\n",
    "    def __init__(self):\n",
    "        self.items = []\n",
    "\n",
    "    def is_empty(self):\n",
    "        return self.items == []\n",
    "\n",
    "    def push(self, items):\n",
    "        self.items.append(items)\n",
    "\n",
    "    def pop(self):\n",
    "        return self.items.pop()\n",
    "\n",
    "    def peek(self):\n",
    "        return self.items[len(self.items) - 1]\n",
    "\n",
    "    def size(self):\n",
    "        return len(self.items)\n",
    "\n",
    "def postfix_byJ(text_input):\n",
    "    # text_input = text_input.split()\n",
    "    stack_j = Stack()\n",
    "    for str in text_input:\n",
    "        if str in \"0123456789\" :\n",
    "            stack_j.push(int(str))\n",
    "        else:\n",
    "            str1 = stack_j.pop()\n",
    "            str2 = stack_j.pop()\n",
    "\n",
    "            math_j = do_math_J(str,str2,str1)\n",
    "            stack_j.push(math_j)\n",
    "    return  stack_j.pop()\n",
    "def do_math_J(op,n1,n2) :\n",
    "    if op == \"+\":\n",
    "        return n1 + n2\n",
    "    elif op == \"-\":\n",
    "        return n1-n2\n",
    "    elif op == \"*\":\n",
    "        return n1 * n2\n",
    "    else :\n",
    "        return n1 / n2\n",
    "\n",
    "\n",
    "print(postfix_byJ(\"22*45*+\"))"
   ]
  }
 ],
 "metadata": {
  "kernelspec": {
   "display_name": "Python 3",
   "language": "python",
   "name": "python3"
  },
  "language_info": {
   "codemirror_mode": {
    "name": "ipython",
    "version": 3
   },
   "file_extension": ".py",
   "mimetype": "text/x-python",
   "name": "python",
   "nbconvert_exporter": "python",
   "pygments_lexer": "ipython3",
   "version": "3.7.6"
  }
 },
 "nbformat": 4,
 "nbformat_minor": 4
}
