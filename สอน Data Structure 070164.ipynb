{
 "cells": [
  {
   "cell_type": "markdown",
   "metadata": {},
   "source": [
    "1. จงเขียนโปรแกรมสำหรับคำนวนตัวเลขแฟคทอเรียล *"
   ]
  },
  {
   "cell_type": "code",
   "execution_count": null,
   "metadata": {},
   "outputs": [],
   "source": [
    "def factorial_byJ(n):\n",
    "    if n == 1 :\n",
    "        return n\n",
    "    else:\n",
    "        return n * factorial_byJ(n-1)\n",
    "print(factorial_byJ(5))"
   ]
  },
  {
   "cell_type": "markdown",
   "metadata": {},
   "source": [
    "2. จงเขียนโปรแกรมกลับหน้าหลังข้อความ *"
   ]
  },
  {
   "cell_type": "code",
   "execution_count": null,
   "metadata": {},
   "outputs": [],
   "source": [
    "def reverse(text):\n",
    "    if len(text) == 1 :\n",
    "        return text\n",
    "    else:\n",
    "        return reverse(text[1:])+str(text[0])\n",
    "print( reverse(\"ABC\"))"
   ]
  },
  {
   "cell_type": "markdown",
   "metadata": {},
   "source": [
    "3. จงเขียนโปรแกรมเช็คความเป็น palindrome ของข้อความ *"
   ]
  },
  {
   "cell_type": "code",
   "execution_count": null,
   "metadata": {},
   "outputs": [],
   "source": [
    "def is_palindrome(t):\n",
    "    if len(t) < 1 :\n",
    "        return True\n",
    "    else :\n",
    "        if t[0] == t[-1]:\n",
    "            return is_palindrome(t[1:-1])\n",
    "        else:\n",
    "            return False\n",
    "print(is_palindrome(\"mom\"))"
   ]
  },
  {
   "cell_type": "markdown",
   "metadata": {},
   "source": [
    "4. จงเขียนโปรแกรมสร้างเกลียวด้วย module turtle ในรูปแบบอื่น ๆ นอกจากที่สอนในห้อง"
   ]
  },
  {
   "cell_type": "code",
   "execution_count": null,
   "metadata": {},
   "outputs": [],
   "source": [
    "import turtle\n",
    "my_turtle = turtle.Turtle()\n",
    "my_win = turtle.Screen()\n",
    "def draw_spiral(my_turtle, line_len):\n",
    "    if line_len < 200:\n",
    "        my_turtle.forward(line_len)\n",
    "        my_turtle.right(40)\n",
    "        draw_spiral(my_turtle, line_len +5)\n",
    "draw_spiral(my_turtle, 5)\n",
    "my_win.exitonclick()"
   ]
  },
  {
   "cell_type": "markdown",
   "metadata": {},
   "source": [
    "5. จงปรับแก้โปรแกรมสร้าง fractal tree ตามที่ได้เรียนในห้องดังนี้ 1. ทำให้พุ่มไม้หนาขึ้น 2. ตรงปลายกิ่งเป็นสีเขียว ส่วนอื่น ๆ เป็นสีน้ำตาล 3. ให้ทำการสุ่มมุมในการเลี้ยวเพื่อทำให้ fractal tree ดูสมจริง โดยสุ่มระหว่าง 15-45 องศา 4. สุ่มเลขที่นำมาลบเพื่อให้มีความสั้นยาวของกิ่งแต่ละกิ่งไม่เท่ากัน *"
   ]
  },
  {
   "cell_type": "code",
   "execution_count": null,
   "metadata": {},
   "outputs": [],
   "source": [
    "import turtle\n",
    "import random\n",
    "def tree(branch_len, t):\n",
    "    n = random.randrange(15,45)\n",
    "    m = random.randrange(5,10)\n",
    "    j = random.randrange(5,10)\n",
    "   \n",
    "    if branch_len > 25:\n",
    "        t.forward(branch_len)\n",
    "        if branch_len < 30 :\n",
    "              t.color(\"green\")\n",
    "        t.right(n)\n",
    "        tree(branch_len - m, t)\n",
    "        t.left(n*2)\n",
    "        tree(branch_len - j, t)\n",
    "        t.right(n)\n",
    "        t.backward(branch_len)\n",
    "def main():\n",
    "    t = turtle.Turtle()\n",
    "    my_win = turtle.Screen()\n",
    "    t.speed(0)\n",
    "    t.left(90)\n",
    "    t.up()\n",
    "    t.backward(200)\n",
    "    t.down()\n",
    "    t.color(\"brown\")\n",
    "    tree(100, t)\n",
    "    my_win.exitonclick()\n",
    "main()"
   ]
  },
  {
   "cell_type": "markdown",
   "metadata": {},
   "source": [
    "6. จงเขียนโปรแกรมแบบ recursive เพื่อวาดรูปสิ่งต่าง ๆ ที่ไม่ใช่ fractal tree และ spiral *"
   ]
  },
  {
   "cell_type": "code",
   "execution_count": null,
   "metadata": {},
   "outputs": [],
   "source": [
    "import turtle\n",
    "colors = ['red', 'purple', 'blue', 'green', 'orange', 'yellow']\n",
    "t = turtle.Pen()\n",
    "turtle.bgcolor('black')\n",
    "\n",
    "def my_j(x,t):\n",
    "    if x < 360 :\n",
    "        t.pencolor(colors[x%6])\n",
    "        t.width(x/100 + 1)\n",
    "        t.forward(x)\n",
    "        t.left(59)\n",
    "        my_j(x+1,t)\n",
    "my_j(1,t)"
   ]
  }
 ],
 "metadata": {
  "kernelspec": {
   "display_name": "Python 3",
   "language": "python",
   "name": "python3"
  },
  "language_info": {
   "codemirror_mode": {
    "name": "ipython",
    "version": 3
   },
   "file_extension": ".py",
   "mimetype": "text/x-python",
   "name": "python",
   "nbconvert_exporter": "python",
   "pygments_lexer": "ipython3",
   "version": "3.8.5"
  }
 },
 "nbformat": 4,
 "nbformat_minor": 4
}
