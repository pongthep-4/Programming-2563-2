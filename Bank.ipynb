{
 "cells": [
  {
   "cell_type": "code",
   "execution_count": 5,
   "metadata": {},
   "outputs": [
    {
     "name": "stdout",
     "output_type": "stream",
     "text": [
      "\n",
      "\n",
      "choose: 1 >> counter 1 to get customer. \tchoose: 2 >> counter 2 to get customer\t3. >> custorme waiting,and 4 > quit\n",
      "\n",
      "\n",
      "\n",
      "Waiting for customer :  4\n"
     ]
    }
   ],
   "source": [
    "class Queue:\n",
    "    def __init__(self):\n",
    "        self.items = []\n",
    "\n",
    "    def is_empty(self):\n",
    "        return self.items == []\n",
    "\n",
    "    def enqueue(self, items):\n",
    "        self.items.insert(0,items)\n",
    "\n",
    "    def dequeue(self):\n",
    "        return self.items.pop()\n",
    "    def size(self):\n",
    "        return len(self.items)\n",
    "    def show(self):\n",
    "        return self.items\n",
    "\n",
    "def menu() :\n",
    "    print(\"\\n\\nchoose: 1 >> counter 1 to get customer. \\tchoose: 2 >> counter 2 to get customer\\t3. >> custorme waiting,and 4 > quit\\n\\n\\n\")\n",
    "queue_j = Queue()\n",
    "\n",
    "while True :\n",
    "    menu()\n",
    "    fn_input = int(input(\"Waiting for customer :  \"))\n",
    "    customer_waiting = queue_j.size()\n",
    "    if fn_input == 1 :\n",
    "        if customer_waiting > 0 :\n",
    "            dequeue = queue_j.dequeue()\n",
    "            print(\"Customer ({}) com to counter 1  : \".format(dequeue))\n",
    "            customer_waiting -= 1\n",
    "            print(\"Number of waiting customer : {}\".format(customer_waiting))\n",
    "            print(\"Waiting customer >>>  \",queue_j.show())\n",
    "        else:\n",
    "            print(\"Number of waiting customer : {}\".format(customer_waiting))\n",
    "            print(\"No one waiting\")\n",
    "    elif fn_input == 2 :\n",
    "        if customer_waiting > 0 :\n",
    "            dequeue = queue_j.dequeue()\n",
    "            print(\"Customer ({}) com to counter 2  : \".format(dequeue))\n",
    "            customer_waiting -= 1\n",
    "            print(\"Number of waiting customer : {}\".format(customer_waiting))\n",
    "            print(\"Waiting customer >>>  \",queue_j.show())\n",
    "        else:\n",
    "            print(\"Number of waiting customer : {}\".format(customer_waiting))\n",
    "            print(\"No one waiting\")\n",
    "    elif fn_input == 3 :\n",
    "            queue_input = input(\"Enter customer name >>>\").strip()\n",
    "            queue_j.enqueue(queue_input)\n",
    "            print(\"Number of waiting customer : {}\".format(customer_waiting))\n",
    "            print(\"Waiting customer >>>  \",queue_j.show())\n",
    "    else :\n",
    "        break\n",
    "    \n",
    "    "
   ]
  },
  {
   "cell_type": "code",
   "execution_count": null,
   "metadata": {},
   "outputs": [],
   "source": []
  }
 ],
 "metadata": {
  "kernelspec": {
   "display_name": "Python 3",
   "language": "python",
   "name": "python3"
  },
  "language_info": {
   "codemirror_mode": {
    "name": "ipython",
    "version": 3
   },
   "file_extension": ".py",
   "mimetype": "text/x-python",
   "name": "python",
   "nbconvert_exporter": "python",
   "pygments_lexer": "ipython3",
   "version": "3.7.6"
  }
 },
 "nbformat": 4,
 "nbformat_minor": 2
}
