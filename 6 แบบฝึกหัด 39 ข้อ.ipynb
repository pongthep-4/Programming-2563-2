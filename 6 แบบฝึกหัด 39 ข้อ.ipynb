{
 "cells": [
  {
   "cell_type": "markdown",
   "id": "divided-preservation",
   "metadata": {},
   "source": [
    "### 1 "
   ]
  },
  {
   "cell_type": "code",
   "execution_count": 1,
   "id": "editorial-category",
   "metadata": {},
   "outputs": [
    {
     "name": "stdout",
     "output_type": "stream",
     "text": [
      "5\n",
      "odd\n"
     ]
    }
   ],
   "source": [
    "number = int(input())\n",
    "if number % 2 == 0 :\n",
    "    print(\"even\")\n",
    "else:print(\"odd\")"
   ]
  },
  {
   "cell_type": "markdown",
   "id": "instructional-concentration",
   "metadata": {},
   "source": [
    "### 2"
   ]
  },
  {
   "cell_type": "code",
   "execution_count": 3,
   "id": "legitimate-endorsement",
   "metadata": {},
   "outputs": [
    {
     "name": "stdout",
     "output_type": "stream",
     "text": [
      "5\n",
      "more than zero\n"
     ]
    }
   ],
   "source": [
    "number = int(input())\n",
    "if number >= 0 :\n",
    "    print(\"more than zero\")\n",
    "else:\n",
    "    print(\"less or equal zero\")"
   ]
  },
  {
   "cell_type": "markdown",
   "id": "purple-supplier",
   "metadata": {},
   "source": [
    "### 3"
   ]
  },
  {
   "cell_type": "code",
   "execution_count": 7,
   "id": "criminal-hybrid",
   "metadata": {},
   "outputs": [
    {
     "name": "stdout",
     "output_type": "stream",
     "text": [
      "-3\n",
      "< 0 \n"
     ]
    }
   ],
   "source": [
    "number = int(input()) \n",
    "if number > 0 :\n",
    "    print(\"> 0\")\n",
    "elif number < 0 :\n",
    "    print(\"< 0 \")\n",
    "else:\n",
    "    print(\" = 0\")"
   ]
  },
  {
   "cell_type": "markdown",
   "id": "nasty-strap",
   "metadata": {},
   "source": [
    "### 4"
   ]
  },
  {
   "cell_type": "code",
   "execution_count": 17,
   "id": "integrated-posting",
   "metadata": {},
   "outputs": [
    {
     "name": "stdout",
     "output_type": "stream",
     "text": [
      "  p\n",
      "There is not vowel\n"
     ]
    }
   ],
   "source": [
    "text = input().strip()\n",
    "status = False\n",
    "for i in ['a','e','i','o','u']:\n",
    "    if i in text :\n",
    "        status = True\n",
    "if status :\n",
    "    print(\"There is vowel\")\n",
    "else:\n",
    "    print(\"There is not vowel\")"
   ]
  },
  {
   "cell_type": "markdown",
   "id": "passive-worse",
   "metadata": {},
   "source": [
    "### 5"
   ]
  },
  {
   "cell_type": "code",
   "execution_count": 20,
   "id": "interesting-attitude",
   "metadata": {},
   "outputs": [
    {
     "name": "stdout",
     "output_type": "stream",
     "text": [
      "f\n",
      "[80, 100]\n"
     ]
    }
   ],
   "source": [
    "text = input().strip()\n",
    "t = {'A':[80,100],'B':[80,100],'C':[80,100],'D':[80,100],'F':[80,100],}\n",
    "print(t[text.upper()])"
   ]
  },
  {
   "cell_type": "markdown",
   "id": "headed-gauge",
   "metadata": {},
   "source": [
    "### 6"
   ]
  },
  {
   "cell_type": "code",
   "execution_count": 24,
   "id": "circular-rhythm",
   "metadata": {},
   "outputs": [
    {
     "name": "stdout",
     "output_type": "stream",
     "text": [
      "50\n",
      "Pass\n"
     ]
    }
   ],
   "source": [
    "number = int(input())\n",
    "if number >= 0 :\n",
    "    if number >= 50:\n",
    "        print(\"Pass\")\n",
    "    else:\n",
    "        print(\"Fail\")\n",
    "else:\n",
    "    print(\"Please insert the number that is greater then or wqual zero\")"
   ]
  },
  {
   "cell_type": "markdown",
   "id": "multiple-provider",
   "metadata": {},
   "source": [
    "### 7"
   ]
  },
  {
   "cell_type": "code",
   "execution_count": 27,
   "id": "mounted-threat",
   "metadata": {},
   "outputs": [
    {
     "name": "stdout",
     "output_type": "stream",
     "text": [
      "2001\n",
      "2544\n"
     ]
    }
   ],
   "source": [
    "number = int(input())\n",
    "if number >= 0 :\n",
    "    print(f'{number+543}')\n",
    "else:\n",
    "    print(\"Please insert the number that is greater then or wqual zero\")"
   ]
  },
  {
   "cell_type": "markdown",
   "id": "gross-prompt",
   "metadata": {},
   "source": [
    "### 8"
   ]
  },
  {
   "cell_type": "code",
   "execution_count": 31,
   "id": "appreciated-therapist",
   "metadata": {},
   "outputs": [
    {
     "name": "stdout",
     "output_type": "stream",
     "text": [
      "60\n",
      "15.56\n"
     ]
    }
   ],
   "source": [
    "number = float(input())\n",
    "if number >= 32 :\n",
    "    print(f'{round((5*(number-32))/9,2)}')\n",
    "else:\n",
    "    print(\"Too cold to live\")"
   ]
  },
  {
   "cell_type": "markdown",
   "id": "velvet-dancing",
   "metadata": {},
   "source": [
    "### 9"
   ]
  },
  {
   "cell_type": "code",
   "execution_count": 33,
   "id": "composed-handbook",
   "metadata": {},
   "outputs": [
    {
     "name": "stdout",
     "output_type": "stream",
     "text": [
      "2\n",
      "65.0\n"
     ]
    }
   ],
   "source": [
    "number = float(input())\n",
    "if number > 0 :\n",
    "    print(f\"{number*32.5}\")\n",
    "else:\n",
    "    print(\"You don't have money\")"
   ]
  },
  {
   "cell_type": "markdown",
   "id": "perfect-expense",
   "metadata": {},
   "source": [
    "### 10"
   ]
  },
  {
   "cell_type": "code",
   "execution_count": 40,
   "id": "surprising-belief",
   "metadata": {},
   "outputs": [
    {
     "name": "stdout",
     "output_type": "stream",
     "text": [
      "-4\n",
      "Negative Even\n"
     ]
    }
   ],
   "source": [
    "number = float(input())\n",
    "if number == 0 :\n",
    "    print(\"zero\")\n",
    "elif number > 0 :\n",
    "    if number % 2 == 0 :\n",
    "        print(\"Positive Even\")\n",
    "    else:\n",
    "        print(\"Positive Odd\")\n",
    "else:\n",
    "    if number % 2 == 0 :\n",
    "        print(\"Negative Even\")\n",
    "    else:\n",
    "        print(\"Negative Odd\")"
   ]
  },
  {
   "cell_type": "markdown",
   "id": "registered-houston",
   "metadata": {},
   "source": [
    "### 11"
   ]
  },
  {
   "cell_type": "code",
   "execution_count": 80,
   "id": "difficult-blend",
   "metadata": {},
   "outputs": [
    {
     "name": "stdout",
     "output_type": "stream",
     "text": [
      "100\n",
      "Yes, It's integer\n"
     ]
    }
   ],
   "source": [
    "number = float(input())\n",
    "Hint = number**(1/2)\n",
    "if Hint % 1 == 0:\n",
    "    print(\"Yes, It's integer\")\n",
    "else:\n",
    "    print(\"Yes, It is,'t' integer\")"
   ]
  },
  {
   "cell_type": "markdown",
   "id": "personal-painting",
   "metadata": {},
   "source": [
    "### 12"
   ]
  },
  {
   "cell_type": "code",
   "execution_count": 48,
   "id": "hollywood-anger",
   "metadata": {},
   "outputs": [
    {
     "name": "stdout",
     "output_type": "stream",
     "text": [
      "-1\n",
      "1\n",
      "a + b = 0\n"
     ]
    }
   ],
   "source": [
    "number1 = int(input())\n",
    "number2 = int(input())\n",
    "sumN = number1+number2\n",
    "if sumN == 0:\n",
    "    print(\"a + b = 0\")\n",
    "elif sumN > 0 :\n",
    "    print(\"a + b > 0\")\n",
    "else:\n",
    "    print(\"a + b < 0\")"
   ]
  },
  {
   "cell_type": "markdown",
   "id": "common-friend",
   "metadata": {},
   "source": [
    "### 13"
   ]
  },
  {
   "cell_type": "code",
   "execution_count": 6,
   "id": "arbitrary-superior",
   "metadata": {},
   "outputs": [
    {
     "name": "stdout",
     "output_type": "stream",
     "text": [
      "1\n",
      "0\n",
      "0 Bath.\n"
     ]
    }
   ],
   "source": [
    "h = int(input())\n",
    "m = int(input())\n",
    "if m > 0  :h += 1\n",
    "h -= 1\n",
    "print(f\"{h * 30} Bath.\")"
   ]
  },
  {
   "cell_type": "markdown",
   "id": "executive-hampton",
   "metadata": {},
   "source": [
    "### 14"
   ]
  },
  {
   "cell_type": "code",
   "execution_count": 8,
   "id": "comfortable-family",
   "metadata": {},
   "outputs": [
    {
     "name": "stdout",
     "output_type": "stream",
     "text": [
      "2\n",
      "1\n",
      "20 Bath.\n"
     ]
    }
   ],
   "source": [
    "h = int(input())\n",
    "m = int(input())\n",
    "if h >= 0 and m >= 0 :\n",
    "    if m > 0  :h += 1\n",
    "    print(f\"{(h-1) * 10} Bath.\")\n",
    "else:\n",
    "    print(\"It can not be negative\")"
   ]
  },
  {
   "cell_type": "markdown",
   "id": "democratic-horizontal",
   "metadata": {},
   "source": [
    "### 15"
   ]
  },
  {
   "cell_type": "code",
   "execution_count": 17,
   "id": "armed-nicaragua",
   "metadata": {},
   "outputs": [
    {
     "name": "stdout",
     "output_type": "stream",
     "text": [
      "Enter Shopping : 2000\n",
      "Enter Hour : 1\n",
      "Enter Minute : 1\n",
      "0 Bath.\n"
     ]
    }
   ],
   "source": [
    "shopping = int(input(\"Enter Shopping : \"))\n",
    "hour = int(input(\"Enter Hour : \"))\n",
    "minute = int(input(\"Enter Minute : \"))\n",
    "freeParking = 4 if shopping >= 1000 else 1\n",
    "if minute > 0 :minute += 1\n",
    "if hour > freeParking :\n",
    "    hour -= freeParking\n",
    "else :\n",
    "    hour = 0\n",
    "print(f\"{hour * 30} Bath.\")"
   ]
  },
  {
   "cell_type": "markdown",
   "id": "artificial-muscle",
   "metadata": {},
   "source": [
    "### 16"
   ]
  },
  {
   "cell_type": "code",
   "execution_count": 22,
   "id": "rural-blues",
   "metadata": {},
   "outputs": [
    {
     "name": "stdout",
     "output_type": "stream",
     "text": [
      "Enter Shopping : -1\n",
      "Enter Hour : 0\n",
      "Enter Minute : 0\n",
      "It can not be negative\n"
     ]
    }
   ],
   "source": [
    "shopping = int(input(\"Enter Shopping : \"))\n",
    "hour = int(input(\"Enter Hour : \"))\n",
    "minute = int(input(\"Enter Minute : \"))\n",
    "if shopping > 0 and hour > 0 and minute > 0 :\n",
    "    freeParking = 3 if shopping >= 1000 else 1\n",
    "    if minute > 0 :minute += 1\n",
    "    if hour > freeParking :\n",
    "        hour -= freeParking\n",
    "    else :\n",
    "        hour = 0\n",
    "    print(f\"{hour * 40} Bath.\")\n",
    "else:\n",
    "    print(\"It can not be negative\")"
   ]
  },
  {
   "cell_type": "markdown",
   "id": "greatest-title",
   "metadata": {},
   "source": [
    "### 17"
   ]
  },
  {
   "cell_type": "code",
   "execution_count": 29,
   "id": "sublime-confidentiality",
   "metadata": {},
   "outputs": [
    {
     "name": "stdout",
     "output_type": "stream",
     "text": [
      "Enter Shopping : 0\n",
      "Enter Hour : 6\n",
      "Enter Minute : 0\n",
      "150 Bath.\n"
     ]
    }
   ],
   "source": [
    "shopping = int(input(\"Enter Shopping : \"))\n",
    "hour = int(input(\"Enter Hour : \"))\n",
    "minute = int(input(\"Enter Minute : \"))\n",
    "freeParking = 3 if shopping >= 1000 else 1\n",
    "if minute > 0 :minute += 1\n",
    "if hour > freeParking :\n",
    "    hour -= freeParking\n",
    "else :\n",
    "    hour = 0\n",
    "price = 150 if hour*40 >= 160 else hour*40\n",
    "print(f\"{price} Bath.\")"
   ]
  },
  {
   "cell_type": "markdown",
   "id": "intended-routine",
   "metadata": {},
   "source": [
    "### 18"
   ]
  },
  {
   "cell_type": "code",
   "execution_count": 30,
   "id": "precious-investor",
   "metadata": {},
   "outputs": [
    {
     "name": "stdout",
     "output_type": "stream",
     "text": [
      "Enter Shopping : -1\n",
      "Enter Hour : 0\n",
      "Enter Minute : 0\n",
      "It can not be negative\n"
     ]
    }
   ],
   "source": [
    "shopping = int(input(\"Enter Shopping : \"))\n",
    "hour = int(input(\"Enter Hour : \"))\n",
    "minute = int(input(\"Enter Minute : \"))\n",
    "if shopping >= 0 and hour >= 0 and minute >= 0 :\n",
    "    freeParking = 3 if shopping >= 1000 else 1\n",
    "    if minute > 0 :minute += 1\n",
    "    if hour > freeParking :\n",
    "        hour -= freeParking\n",
    "    else :\n",
    "        hour = 0\n",
    "    price = 150 if hour*40 >= 160 else hour*40\n",
    "    print(f\"{price} Bath.\")\n",
    "else:\n",
    "    print(\"It can not be negative\")"
   ]
  },
  {
   "cell_type": "markdown",
   "id": "documentary-diagnosis",
   "metadata": {},
   "source": [
    "### 19"
   ]
  },
  {
   "cell_type": "code",
   "execution_count": 37,
   "id": "molecular-anthropology",
   "metadata": {},
   "outputs": [
    {
     "name": "stdout",
     "output_type": "stream",
     "text": [
      "Enter Width : 2\n",
      "Enter Length : 11\n",
      "22\n"
     ]
    }
   ],
   "source": [
    "width = int(input(\"Enter Width : \"))\n",
    "length = int(input(\"Enter Length : \"))\n",
    "if width >= 0 and  length >= 0 :\n",
    "    if  length % width  == 0 :\n",
    "        square = length / width\n",
    "    else:\n",
    "         square = width * length \n",
    "    print(round(square,0))\n",
    "else:\n",
    "    print(\"Please insert positive number\")"
   ]
  },
  {
   "cell_type": "markdown",
   "id": "following-jackson",
   "metadata": {},
   "source": [
    "### 20"
   ]
  },
  {
   "cell_type": "code",
   "execution_count": 23,
   "id": "abroad-attention",
   "metadata": {},
   "outputs": [
    {
     "name": "stdout",
     "output_type": "stream",
     "text": [
      "12 18 24\n",
      "6\n"
     ]
    }
   ],
   "source": [
    "from math import gcd\n",
    "x, y, z = [int(x) for x in input().split()]\n",
    "gcd2 = gcd(y, z)\n",
    "gcd3 = gcd(x, gcd2)\n",
    "print(gcd3)"
   ]
  },
  {
   "cell_type": "code",
   "execution_count": 59,
   "id": "classified-adoption",
   "metadata": {},
   "outputs": [
    {
     "name": "stdout",
     "output_type": "stream",
     "text": [
      "12 18 24\n",
      "6\n"
     ]
    }
   ],
   "source": [
    "x, y, z = [int(x) for x in input().split()]\n",
    "i = 1\n",
    "tmp = list()\n",
    "while True :\n",
    "    i+= 1\n",
    "    if i > 9 : break\n",
    "    if x % i == 0 and y % i == 0 and z % i == 0:\n",
    "        tmp.append(i)\n",
    "        x /= i\n",
    "        y /= i\n",
    "        z /= i\n",
    "    else:\n",
    "        i += 1\n",
    "value = 1\n",
    "for i in tmp :value*=i\n",
    "print(value)"
   ]
  },
  {
   "cell_type": "markdown",
   "id": "alien-evaluation",
   "metadata": {},
   "source": [
    "### 21"
   ]
  },
  {
   "cell_type": "code",
   "execution_count": 22,
   "id": "purple-richmond",
   "metadata": {},
   "outputs": [
    {
     "name": "stdout",
     "output_type": "stream",
     "text": [
      "12 18 24\n",
      "12.0\n"
     ]
    }
   ],
   "source": [
    "from math import gcd\n",
    "x, y, z = [int(x) for x in input().split()]\n",
    "gcd2 = gcd(y, z)\n",
    "gcd3 = gcd(x, gcd2)\n",
    "\n",
    "lcm2 = y*z / gcd2\n",
    "lcm3= lcm2*x /lcm2\n",
    "print(lcm3)"
   ]
  },
  {
   "cell_type": "code",
   "execution_count": 58,
   "id": "radical-smooth",
   "metadata": {},
   "outputs": [
    {
     "name": "stdout",
     "output_type": "stream",
     "text": [
      "12 18 24\n",
      "72.0\n"
     ]
    }
   ],
   "source": [
    "x, y, z = [int(x) for x in input().split()]\n",
    "i = 1\n",
    "tmp = list()\n",
    "while True :\n",
    "    i+= 1\n",
    "    if i > 9 : break\n",
    "    if x % i == 0 and y % i == 0 and z % i == 0:\n",
    "        tmp.append(i)\n",
    "        x /= i\n",
    "        y /= i\n",
    "        z /= i\n",
    "    else:\n",
    "        i += 1\n",
    "i = 1\n",
    "while True :\n",
    "    i+= 1\n",
    "    if i > 9 : break\n",
    "    if x % i == 0 or y % i == 0 or z % i == 0:\n",
    "        tmp.append(i)\n",
    "        if x % i == 0: x /= i \n",
    "        tmp.append(x)\n",
    "        if y % i == 0: y /= i \n",
    "        tmp.append(y)\n",
    "        if z % i == 0: z /= i \n",
    "        tmp.append(z)\n",
    "        break\n",
    "    else:\n",
    "        i += 1\n",
    "value = 1\n",
    "for i in tmp :value*=i\n",
    "print(value)"
   ]
  },
  {
   "cell_type": "markdown",
   "id": "hindu-afternoon",
   "metadata": {},
   "source": [
    "### 22"
   ]
  },
  {
   "cell_type": "code",
   "execution_count": 25,
   "id": "located-flesh",
   "metadata": {},
   "outputs": [
    {
     "name": "stdout",
     "output_type": "stream",
     "text": [
      "12 18 24\n",
      "Maybe No\n"
     ]
    }
   ],
   "source": [
    "from math import gcd\n",
    "x, y, z = [int(x) for x in input().split()]\n",
    "gcd2 = gcd(y, z)\n",
    "gcd3 = gcd(x, gcd2)\n",
    "\n",
    "lcm2 = y*z / gcd2\n",
    "lcm3= lcm2*x /lcm2\n",
    "if (x*y*z) == gcd3 or (x*y*z) == lcm3 :\n",
    "    print(\"Absolutely Yes\")\n",
    "else:\n",
    "    print(\"Maybe No\")"
   ]
  },
  {
   "cell_type": "markdown",
   "id": "welcome-point",
   "metadata": {},
   "source": [
    "### 23"
   ]
  },
  {
   "cell_type": "code",
   "execution_count": 60,
   "id": "satisfied-tobacco",
   "metadata": {},
   "outputs": [
    {
     "name": "stdout",
     "output_type": "stream",
     "text": [
      "Enter text 1 : asd\n",
      "Enter text 2 : asd\n",
      "Same length\n"
     ]
    }
   ],
   "source": [
    "text1 = input(\"Enter text 1 : \").strip()\n",
    "text2 = input(\"Enter text 2 : \").strip()\n",
    "if len(text1) == len(text2):\n",
    "    print(\"Same length\")\n",
    "else:\n",
    "    print(\"Not same\")"
   ]
  },
  {
   "cell_type": "markdown",
   "id": "genetic-document",
   "metadata": {},
   "source": [
    "### 24"
   ]
  },
  {
   "cell_type": "code",
   "execution_count": 77,
   "id": "heard-butler",
   "metadata": {},
   "outputs": [
    {
     "name": "stdout",
     "output_type": "stream",
     "text": [
      "Enter text 1 : 123\n",
      "Enter text 2 : 1234\n",
      "1234\n"
     ]
    }
   ],
   "source": [
    "text1 = input(\"Enter text 1 : \").strip()\n",
    "text2 = input(\"Enter text 2 : \").strip()\n",
    "if len(text1) == len(text2):\n",
    "    print(\"Same \")\n",
    "else:\n",
    "    if len(text1) > len(text2):\n",
    "        print(text1)\n",
    "    else:\n",
    "        print(text2)\n",
    "    "
   ]
  },
  {
   "cell_type": "markdown",
   "id": "sound-marriage",
   "metadata": {},
   "source": [
    "### 25"
   ]
  },
  {
   "cell_type": "code",
   "execution_count": 80,
   "id": "vital-northern",
   "metadata": {},
   "outputs": [
    {
     "name": "stdout",
     "output_type": "stream",
     "text": [
      "Enter text 1 : 123\n",
      "Enter text 2 : 1234\n",
      "Enter text 3 : 12345\n",
      "123\n",
      "1234\n",
      "12345\n"
     ]
    }
   ],
   "source": [
    "text = list()\n",
    "for i in range(1,4):\n",
    "    x = input(f\"Enter text {i} : \").strip()\n",
    "    text.append([len(x),x])\n",
    "sort = sorted(text)\n",
    "for i in sort :\n",
    "    print(f\"{i[1]}\")"
   ]
  },
  {
   "cell_type": "markdown",
   "id": "simple-sydney",
   "metadata": {},
   "source": [
    "### 26"
   ]
  },
  {
   "cell_type": "code",
   "execution_count": 97,
   "id": "cathedral-bowling",
   "metadata": {},
   "outputs": [
    {
     "name": "stdout",
     "output_type": "stream",
     "text": [
      "Enter text 1 : 123\n",
      "Enter text 2 : 1234\n",
      "Enter text 3 : 1234\n",
      "123\n",
      "1234 1234\n",
      "\n"
     ]
    }
   ],
   "source": [
    "text = list()\n",
    "for i in range(1,4):\n",
    "    x = input(f\"Enter text {i} : \").strip()\n",
    "    text.append([len(x),x])\n",
    "sort = sorted(text)\n",
    "for i in range(len(sort)):\n",
    "    if i+1 != len(sort):\n",
    "        if sort[i][0] == sort[i+1][0]:\n",
    "            print(f\"{sort[i][1]} \",end=\"\")\n",
    "        else:\n",
    "            print(f\"{sort[i][1]}\")\n",
    "    else:\n",
    "        print(f\"{sort[i][1]}\\n\")"
   ]
  },
  {
   "cell_type": "markdown",
   "id": "variable-graham",
   "metadata": {},
   "source": [
    "### 27"
   ]
  },
  {
   "cell_type": "code",
   "execution_count": 112,
   "id": "rubber-conspiracy",
   "metadata": {},
   "outputs": [
    {
     "name": "stdout",
     "output_type": "stream",
     "text": [
      "pONGTHEP\n",
      "Pongthep\n"
     ]
    }
   ],
   "source": [
    "text = input().strip()\n",
    "newText = ''\n",
    "status = True\n",
    "for i in text :\n",
    "    if i in ['a','b','c','d','e','f','g','h','i','j','k','l','m','n','o','p','q','r','s','t','u','v','w','x','y','z']:\n",
    "        newText += i.upper()\n",
    "    else:\n",
    "        newText += i.lower()\n",
    "print(newText)\n"
   ]
  },
  {
   "cell_type": "markdown",
   "id": "heated-adoption",
   "metadata": {},
   "source": [
    "### 28"
   ]
  },
  {
   "cell_type": "code",
   "execution_count": 115,
   "id": "spatial-belly",
   "metadata": {},
   "outputs": [
    {
     "name": "stdout",
     "output_type": "stream",
     "text": [
      "100\n",
      "100.0 Bath.\n"
     ]
    }
   ],
   "source": [
    "bill = int(input())\n",
    "if bill > 0 :\n",
    "    discount = 0\n",
    "    if bill >= 50000: discount = 20 \n",
    "    elif bill >= 10000: discount = 15\n",
    "    elif bill >= 1000: discount = 10\n",
    "    else: discount = 0\n",
    "    bill -= (bill * discount / 100)\n",
    "    print(f\"{bill} Bath.\")\n",
    "else:\n",
    "    print(\"It's imposible\")"
   ]
  },
  {
   "cell_type": "markdown",
   "id": "intellectual-pension",
   "metadata": {},
   "source": [
    "### 29"
   ]
  },
  {
   "cell_type": "code",
   "execution_count": 120,
   "id": "intermediate-collective",
   "metadata": {},
   "outputs": [
    {
     "name": "stdout",
     "output_type": "stream",
     "text": [
      "3 5 4\n",
      "right triangle\n"
     ]
    }
   ],
   "source": [
    "a, b, c = [int(x) for x in input().split()]\n",
    "if a > 0 and b > 0 and c > 0:\n",
    "    if ((a**2)+(b**2) == (c**2)) or ((b**2)+(c**2) == (a**2)) or ((c**2)+(a**2) == (b**2)):\n",
    "        print(\"right triangle\")\n",
    "    else:\n",
    "        print(\"Not a right triangle\")\n",
    "else:\n",
    "    print(\"width and height must be greater than 0 \")"
   ]
  },
  {
   "cell_type": "markdown",
   "id": "incoming-cleanup",
   "metadata": {},
   "source": [
    "### 30"
   ]
  },
  {
   "cell_type": "code",
   "execution_count": 123,
   "id": "cellular-links",
   "metadata": {},
   "outputs": [
    {
     "name": "stdout",
     "output_type": "stream",
     "text": [
      "1 2 3\n",
      "+\n"
     ]
    }
   ],
   "source": [
    "a, b, c = [int(x) for x in input().split()]\n",
    "if a + b == c : print(\"+\")\n",
    "elif a - b == c :print(\"-\")\n",
    "elif a * b == c :print(\"*\")\n",
    "elif a / b == c :print(\"/\")\n",
    "else:\n",
    "    print(\"No opeerator can do this\")"
   ]
  },
  {
   "cell_type": "markdown",
   "id": "growing-armenia",
   "metadata": {},
   "source": [
    "### 31"
   ]
  },
  {
   "cell_type": "code",
   "execution_count": 45,
   "id": "behavioral-davis",
   "metadata": {},
   "outputs": [
    {
     "name": "stdout",
     "output_type": "stream",
     "text": [
      "100 5 10 50\n",
      "100 - (5 * 10) = 50\n"
     ]
    }
   ],
   "source": [
    "a, b, c, d = [int(x) for x in input().split()]\n",
    "text = ''\n",
    "for i in range(4):\n",
    "    for j in range(4):\n",
    "        if i == 0:\n",
    "            if j == 0:\n",
    "                if a + b + c == d: text = f\"{a} + {b} + {c} = {d}\" ; break\n",
    "            elif j == 1:\n",
    "                if a + (b - c) == d: text = f\"{a} + ({b} - {c}) = {d}\" ; break\n",
    "            elif j == 2:\n",
    "                if a + (b * c) == d: text = f\"{a} + ({b} * {c}) = {d}\" ; break\n",
    "            elif j == 3:\n",
    "                if a + (b / c) == d:text = f\"{a} + ({b} / {c}) = {d}\" ; break\n",
    "        elif i == 1:\n",
    "            if j == 0:\n",
    "                if a - (b + c) == d: text = f\"{a} - ({b} + {c}) = {d}\" ; break\n",
    "            elif j == 1:\n",
    "                if a - (b - c) == d: text = f\"{a} - ({b} - {c}) = {d}\" ; break\n",
    "            elif j == 2:\n",
    "                if a - (b * c) == d: text = f\"{a} - ({b} * {c}) = {d}\" ; break\n",
    "            elif j == 3:\n",
    "                if a - (b / c) == d: text = f\"{a} - ({b} / {c}) = {d}\" ; break\n",
    "        elif i == 2:\n",
    "            if j == 0:\n",
    "                if a * (b + c) == d: text = f\"{a} * ({b} + {c}) = {d}\" ; break\n",
    "            elif j == 1:\n",
    "                if a * (b - c) == d: text = f\"{a} * ({b} - {c}) = {d}\" ; break\n",
    "            elif j == 2:\n",
    "                if a * (b * c) == d: text = f\"{a} * ({b} * {c}) = {d}\" ; break\n",
    "            elif j == 3:\n",
    "                if a * (b / c) == d: text = f\"{a} * ({b} / {c}) = {d}\" ; break\n",
    "        elif i == 3:\n",
    "            if j == 0:\n",
    "                if a / (b + c) == d: text = f\"{a} / ({b} + {c}) = {d}\" ; break\n",
    "            elif j == 1:\n",
    "                if a / (b - c) == d: x = f\"{a} / ({b} - {c}) = {d}\" ; break\n",
    "            elif j == 2:\n",
    "                if a / (b * c) == d: x = f\"{a} / ({b} * {c}) = {d}\" ; break\n",
    "            elif j == 3:\n",
    "                if a / (b / c) == d: x = f\"{a} / ({b} / {c}) = {d}\" ; break\n",
    "        if text != '' : break\n",
    "if x != '': \n",
    "    print(text)\n",
    "else:\n",
    "    print('No operator can do this')"
   ]
  },
  {
   "cell_type": "markdown",
   "id": "outside-gross",
   "metadata": {},
   "source": [
    "### 32"
   ]
  },
  {
   "cell_type": "code",
   "execution_count": 126,
   "id": "computational-story",
   "metadata": {},
   "outputs": [
    {
     "name": "stdout",
     "output_type": "stream",
     "text": [
      "Enter number: 10\n",
      "It can not be divided by three\n"
     ]
    }
   ],
   "source": [
    "number= int(input(\"Enter number: \"))\n",
    "if number % 3 == 0 :\n",
    "    print(\"It can be divided by three\")\n",
    "else:\n",
    "    print(\"It can not be divided by three\")"
   ]
  },
  {
   "cell_type": "markdown",
   "id": "quarterly-desert",
   "metadata": {},
   "source": [
    "### 33"
   ]
  },
  {
   "cell_type": "code",
   "execution_count": 138,
   "id": "vocal-lebanon",
   "metadata": {},
   "outputs": [
    {
     "name": "stdout",
     "output_type": "stream",
     "text": [
      "Enter Number : 7\n",
      "1 2 3 4 5 6 Oh 8 9 10 11 12 13 14 15 16 Oh 18 19 20 "
     ]
    }
   ],
   "source": [
    "n = 20 \n",
    "number = int(input(\"Enter Number : \"))\n",
    "for i in range(1,n+1):\n",
    "    listTmp = [x for x in str(i)]\n",
    "    if str(number) in listTmp :\n",
    "        print(\"Oh \",end=\"\")\n",
    "    else:\n",
    "        print(f\"{i} \",end=\"\")\n"
   ]
  },
  {
   "cell_type": "markdown",
   "id": "driving-pontiac",
   "metadata": {},
   "source": [
    "### 34"
   ]
  },
  {
   "cell_type": "code",
   "execution_count": 11,
   "id": "stunning-merit",
   "metadata": {},
   "outputs": [
    {
     "name": "stdout",
     "output_type": "stream",
     "text": [
      "ABCD\n",
      "BCDE\n"
     ]
    }
   ],
   "source": [
    "abc = [ x for x in 'ABCDEFGHIJKLMNOPQRSTUVWXYZA']\n",
    "text = input().strip()\n",
    "newText = ''\n",
    "for i in text.upper() :\n",
    "    newText += abc[int(abc.index(i))+1]\n",
    "print(newText)"
   ]
  },
  {
   "cell_type": "markdown",
   "id": "hydraulic-advantage",
   "metadata": {},
   "source": [
    "### 35"
   ]
  },
  {
   "cell_type": "code",
   "execution_count": 12,
   "id": "dramatic-rolling",
   "metadata": {},
   "outputs": [
    {
     "name": "stdout",
     "output_type": "stream",
     "text": [
      "abcd\n",
      "ZABC\n"
     ]
    }
   ],
   "source": [
    "abc = [ x for x in 'ZABCDEFGHIJKLMNOPQRSTUVWXYZ']\n",
    "text = input().strip()\n",
    "newText = ''\n",
    "for i in text.upper() :\n",
    "    newText += abc[int(abc.index(i))-1]\n",
    "print(newText)"
   ]
  },
  {
   "cell_type": "markdown",
   "id": "ruled-bouquet",
   "metadata": {},
   "source": [
    "### 36"
   ]
  },
  {
   "cell_type": "code",
   "execution_count": 136,
   "id": "physical-symposium",
   "metadata": {},
   "outputs": [
    {
     "name": "stdout",
     "output_type": "stream",
     "text": [
      "123.20\n",
      "หนึ่งร้อยยี่สิบสามบาทยี่สิบสตางค์\n"
     ]
    }
   ],
   "source": [
    "text = input().strip()\n",
    "split = text.split('.')\n",
    "satang, money = split[1], split[0]\n",
    "money = money.split(',')\n",
    "newText, joinMoney = '',''\n",
    "joinMoney= joinMoney.join(money)\n",
    "\n",
    "def numberToText(number):\n",
    "    text = ''\n",
    "    thai = ['หนึ่ง','สอง','สาม','สี่','ห้า','หก','เจ็ด','แปด','เก้า','']\n",
    "    unit = ['','สิบ','ร้อย','พัน','หมื่น','แสน','ล้าน']\n",
    "    for i in range(len(number)):\n",
    "        if int(number[-(i+1)]) != 0 :\n",
    "            if (i + 1)  == 1 :\n",
    "                if int(number[-(i+1)]) == 1 and int(number[-(i+2)]) == 1:\n",
    "                     text = 'เอ็ด' + text\n",
    "                else:\n",
    "                    text = f'{thai[int(number[-(i+1)])-1]}{unit[((i + 1) )-1]}' + text\n",
    "            elif (i + 1)  == 2 :\n",
    "                if int(number[-(i+1)]) == 1:\n",
    "                     text = 'สิบ' + text\n",
    "                elif int(number[-(i+1)]) == 2:\n",
    "                    text = 'ยี่สิบ' + text\n",
    "                else:\n",
    "                    text = f'{thai[int(number[-(i+1)])-1]}{unit[((i + 1) )-1]}' + text\n",
    "            else:\n",
    "                text= f'{thai[int(number[-(i+1)])-1]}{unit[((i + 1) )-1]}' + text\n",
    "    return text\n",
    "\n",
    "text1 = numberToText(joinMoney)\n",
    "text2 = numberToText(satang)\n",
    "if text2 == '':\n",
    "    print(text1+'บาทถ้วน')\n",
    "else:\n",
    "    print(text1 + 'บาท'+text2 +'สตางค์')"
   ]
  },
  {
   "cell_type": "markdown",
   "id": "digital-drinking",
   "metadata": {},
   "source": [
    "### 37"
   ]
  },
  {
   "cell_type": "code",
   "execution_count": 167,
   "id": "junior-crown",
   "metadata": {},
   "outputs": [],
   "source": [
    "#pip install openpyxl\n",
    "from openpyxl import load_workbook\n",
    "\n",
    "wb = load_workbook(filename = 'test.xlsx')\n",
    "sheet1 = wb['Sheet1']\n",
    "for i in range(1,101):\n",
    "    tmp = int(sheet1[f'A{i}'].value)\n",
    "    sheet1[f'B{i}'] = tmp**2\n",
    "    sheet1[f'C{i}'] = tmp*(1/2)\n",
    "\n",
    "wb.save(\"test.xlsx\")"
   ]
  },
  {
   "cell_type": "markdown",
   "id": "acoustic-crazy",
   "metadata": {},
   "source": [
    "### 38"
   ]
  },
  {
   "cell_type": "code",
   "execution_count": 172,
   "id": "diagnostic-india",
   "metadata": {},
   "outputs": [],
   "source": [
    "from PIL import Image\n",
    "\n",
    "image = Image.open('image.jpg')\n",
    "new_image = image.resize((200, 200))\n",
    "new_image.save('newImage.jpg')\n"
   ]
  },
  {
   "cell_type": "markdown",
   "id": "legendary-paragraph",
   "metadata": {},
   "source": [
    "### 39"
   ]
  },
  {
   "cell_type": "code",
   "execution_count": 109,
   "id": "mediterranean-morning",
   "metadata": {},
   "outputs": [
    {
     "name": "stdout",
     "output_type": "stream",
     "text": [
      "\n",
      "\n",
      "----------------------------------------------------------------------------------------------------\n",
      "                               โปรแกรมคณะโนโลยีดิจิทัลชนะ\n",
      "----------------------------------------------------------------------------------------------------\n",
      "ชื่อ - นามสกุล : 1\n",
      "เพศ : 1\n",
      "อายุ : 1\n",
      "                                      << โรคประจำตัว >>\n",
      "[1] ไม่มีโรคประจำตัว\n",
      "[2] ความดันโลหิตสูง\n",
      "[3] เบาหวาน\n",
      "[4] ไขมันในเลือดสูง\n",
      "[5] โรคหัวใจ\n",
      "[6] โรคไต\n",
      "[7] โรคปอด\n",
      "[8] อื่นๆ (ระบุด้วย)\n",
      "ท่านมีโรคประจำตัวดังต่อไปนี้หรือไม่? กรุณาเลือกรายการ : 2\n",
      "\n",
      "\n",
      "----------------------------------------------------------------------------------------------------\n",
      "                               โปรแกรมคณะโนโลยีดิจิทัลชนะ\n",
      "----------------------------------------------------------------------------------------------------\n",
      "                          << ท่านมีอาการดังต่อไปนี้หรือไม่? >>\n",
      " 1. ไอ\n",
      " 2. เจ็บคอ\n",
      " 3. คัดจมูก\n",
      " 4. น้ำมูกไหล\n",
      " 5. หายใจเหนื่อย\n",
      " 6. หายใจลำบาก\n",
      "กรุณาเลือก [1] ใช่ [2] ไม่ไช่ : 1\n",
      "\n",
      "\n",
      "----------------------------------------------------------------------------------------------------\n",
      "                               โปรแกรมคณะโนโลยีดิจิทัลชนะ\n",
      "----------------------------------------------------------------------------------------------------\n",
      "<< ท่านเคยวัดอุณหภูมิร่างกายภายใน 6 เดือนนี้ว่ามีค่ามากกว่า 37.5 องเซลเซียส หรือไม ? >>\n",
      "กรุณาเลือก [1] ใช่ [2] ไม่ไช่ : 1\n",
      "\n",
      "\n",
      "----------------------------------------------------------------------------------------------------\n",
      "                               โปรแกรมคณะโนโลยีดิจิทัลชนะ\n",
      "----------------------------------------------------------------------------------------------------\n",
      "           << ภายใน 14 วันนี้ ท่านมีประวัติดังต่อไปนี้หรือไม ? >>\n",
      " [1] ท่านเดินทางมาจากต่างประเทศ\n",
      " [2] ท่านเคยสัมผัสใกล้ชิดกับนักท่องเที่ยวที่มาจากประเทศที่มีการระบาด\n",
      " [3] ท่านเคยสัมผัสใกล้ชิดผู้ป่วยที่ยืนยันการติดเชื้อ\n",
      " [4] ท่านพักอาศัยอยู่ร่วมกับคนใกล้ชิด ที่เดินทางมาจากต่างประเทศ\n",
      " [5] ไม่\n",
      "กรุณาเลือกรายการ : 1\n",
      "\n",
      "\n",
      "----------------------------------------------------------------------------------------------------\n",
      "                               โปรแกรมคณะโนโลยีดิจิทัลชนะ\n",
      "----------------------------------------------------------------------------------------------------\n",
      "                                         << สรุปผล >>\n",
      "\n",
      "คุณ1\n",
      "[ มีความเสี่ยงต่อการติดเชื้อโควิดสูง ]\n",
      "\n",
      "                           << สถานพยาบาลเพื่อการตรวจหาเชื้อ >>\n",
      "\n",
      "1.\tสถาบันป้องกันควบคุมโรคเขตเมือง \t[ราคา] 1,500 บาท\n",
      "2.\tสถาบันบำราศนราดูร \t[ราคา] 2,500-3,500 บาท\n",
      "3.\tโรงพยาบาลจุฬาลงกรณ์ \t[ราคา] 3,000-6,000 บาท ขึ้นอยู่กับการวินิจฉัยของแพทย์ผู้ตรวจ\n",
      "4.\tโรงพยาบาลรามาธิบดี \t[ราคา] คนไทยไม่เกิน 2,500 บาท ชาวต่างชาติไม่เกิน 3,500 บาท\n",
      "5.\tโรงพยาบาลเวชศาสตร์เขตร้อน \t[ราคา] 3,500 บาท\n",
      "6.\tโรงพยาบาลศิริราช \t[ราคา] 2,000-3,000 บาท (รับตรวจเฉพาะกลุ่มเสี่ยง)\n",
      "7.\tโรงพยาบาลศิริราช ปิยมหาราชการุณย์ \t[ราคา] 7,000-8,000 บาท (ไม่รวมค่าบริการอื่น ๆ)\n"
     ]
    }
   ],
   "source": [
    "database = {\n",
    "    'system' :{\n",
    "        'name':'โปรแกรมคณะโนโลยีดิจิทัลชนะ'\n",
    "    },\n",
    "    'user':{\n",
    "        'name':'',\n",
    "        'sex':'',\n",
    "        'age':'',\n",
    "        'disease':0,\n",
    "        'disease2':'',\n",
    "        'symptom':False,\n",
    "        'temperature':False,\n",
    "        'history':False\n",
    "    },\n",
    "    'history':['ท่านเดินทางมาจากต่างประเทศ','ท่านเคยสัมผัสใกล้ชิดกับนักท่องเที่ยวที่มาจากประเทศที่มีการระบาด','ท่านเคยสัมผัสใกล้ชิดผู้ป่วยที่ยืนยันการติดเชื้อ','ท่านพักอาศัยอยู่ร่วมกับคนใกล้ชิด ที่เดินทางมาจากต่างประเทศ','ไม่'],\n",
    "    'disease':['ไม่มีโรคประจำตัว','ความดันโลหิตสูง','เบาหวาน','ไขมันในเลือดสูง','โรคหัวใจ','โรคไต','โรคปอด','อื่นๆ (ระบุด้วย)'],\n",
    "    'symptom':['ไอ','เจ็บคอ','คัดจมูก','น้ำมูกไหล','หายใจเหนื่อย','หายใจลำบาก'],\n",
    "    'hospital':[\n",
    "            ['สถาบันป้องกันควบคุมโรคเขตเมือง','1,500 บาท'],\n",
    "            ['สถาบันบำราศนราดูร','2,500-3,500 บาท'],\n",
    "            ['โรงพยาบาลจุฬาลงกรณ์','3,000-6,000 บาท ขึ้นอยู่กับการวินิจฉัยของแพทย์ผู้ตรวจ'],\n",
    "            ['โรงพยาบาลรามาธิบดี','คนไทยไม่เกิน 2,500 บาท ชาวต่างชาติไม่เกิน 3,500 บาท'],\n",
    "            ['โรงพยาบาลเวชศาสตร์เขตร้อน','3,500 บาท'],\n",
    "            ['โรงพยาบาลศิริราช','2,000-3,000 บาท (รับตรวจเฉพาะกลุ่มเสี่ยง)'],\n",
    "            ['โรงพยาบาลศิริราช ปิยมหาราชการุณย์','7,000-8,000 บาท (ไม่รวมค่าบริการอื่น ๆ)']\n",
    "    ],\n",
    "    'protect':[\n",
    "        'สวมหน้ากากอนามัย','หากจามหรือไอใช้กระดาษทิชชู่ปิดปากและจมูก','ล้างมือให้สะอาด','ไม่ใช้ของส่วนตัวร่วมกับผู้อื่น','ดูแลและควบคุมสุขอนามัยในบ้าน','หมั่นสังเกตด้วยตัวเอง','อยู่บ้าน หยุดเชื้อ เพื่อชาติ','ข้อสำคัญ ห้ามเครียด'\n",
    "    ]\n",
    "}\n",
    "\n",
    "def header():\n",
    "    print(\"\\n\")\n",
    "    print(\"-\"*100)\n",
    "    print(' '*30,database['system']['name'])\n",
    "    print(\"-\"*100)\n",
    "\n",
    "def Window4():\n",
    "    header()\n",
    "    print(\" \"*10,\"<< ภายใน 14 วันนี้ ท่านมีประวัติดังต่อไปนี้หรือไม ? >>\")\n",
    "    for i in range(len(database['history'])) :\n",
    "        print(f\" [{i+1}] {database['history'][i]}\")\n",
    "    while True :\n",
    "        database['user']['history'] = input(\"กรุณาเลือกรายการ : \").strip()\n",
    "        if database['user']['history'] != '' and int(database['user']['history']) in list(range(1,len(database['history'])+1)) :\n",
    "            break\n",
    "\n",
    "def Window3():\n",
    "    header()\n",
    "    print(\"<< ท่านเคยวัดอุณหภูมิร่างกายภายใน 6 เดือนนี้ว่ามีค่ามากกว่า 37.5 องเซลเซียส หรือไม ? >>\")\n",
    "    while True :\n",
    "        database['user']['temperature'] = input(\"กรุณาเลือก [1] ใช่ [2] ไม่ไช่ : \").strip()\n",
    "        if database['user']['temperature'] != '' :\n",
    "            if database['user']['temperature'] == '1':\n",
    "                database['user']['temperature'] = True\n",
    "                break\n",
    "            elif database['user']['temperature'] == '2':\n",
    "                database['user']['temperature'] = False\n",
    "                break\n",
    "\n",
    "\n",
    "def Window2():\n",
    "    header()\n",
    "    print(\" \"*25,\"<< ท่านมีอาการดังต่อไปนี้หรือไม่? >>\")\n",
    "    for i in range(len(database['symptom'])) :\n",
    "        print(f\" {i+1}. {database['symptom'][i]}\")\n",
    "    while True :\n",
    "        database['user']['symptom'] = input(\"กรุณาเลือก [1] ใช่ [2] ไม่ไช่ : \").strip()\n",
    "        if database['user']['symptom'] != '' :\n",
    "            if database['user']['symptom'] == '1':\n",
    "                database['user']['symptom'] = True\n",
    "                break\n",
    "            elif database['user']['symptom'] == '2':\n",
    "                database['user']['symptom'] = False\n",
    "                break\n",
    "                \n",
    "\n",
    "def Window1():\n",
    "    header()\n",
    "    while True :\n",
    "        database['user']['name'] = input(\"ชื่อ - นามสกุล : \").strip()\n",
    "        if database['user']['name'] != '':break\n",
    "    while True :\n",
    "        database['user']['sex'] = input(\"เพศ : \").strip()\n",
    "        if database['user']['sex'] != '':break\n",
    "    while True :\n",
    "        database['user']['age'] = input(\"อายุ : \").strip()\n",
    "        if database['user']['age'] != '':break\n",
    "    print(\" \"*37,\"<< โรคประจำตัว >>\")\n",
    "    for i in range(len(database['disease'])) :\n",
    "        print(f\"[{i+1}] {database['disease'][i]}\")\n",
    "    while True :\n",
    "        database['user']['disease'] = input(\"ท่านมีโรคประจำตัวดังต่อไปนี้หรือไม่? กรุณาเลือกรายการ : \").strip()\n",
    "        if database['user']['disease'] != '' and int(database['user']['disease']) in list(range(1,len(database['disease'])+1)):break\n",
    "            \n",
    "            \n",
    "def hospital():\n",
    "    print(\"\\n\",\" \"*25,\"<< สถานพยาบาลเพื่อการตรวจหาเชื้อ >>\\n\")\n",
    "    for i in range(len(database['hospital'])):\n",
    "        print(f\"{i+1}.\\t{database['hospital'][i][0]} \\t[ราคา] {database['hospital'][i][1]}\")\n",
    "                   \n",
    "                   \n",
    "def sumUp():\n",
    "    header()\n",
    "    print(\" \"*40,\"<< สรุปผล >>\")\n",
    "    user = database['user']\n",
    "    print(f\"\\nคุณ{user['name']}\")\n",
    "    if user['disease'] != '1' and user['symptom'] and user['temperature'] and int(user['history']) != int(len(database['history'])) :\n",
    "        print(\"[ มีความเสี่ยงต่อการติดเชื้อโควิดสูง ]\")\n",
    "        hospital()\n",
    "    elif user['disease'] != '1' or user['symptom'] or user['temperature'] or int(user['history']) != int(len(database['history'])) :\n",
    "        print(\"[ มีความเสี่ยงต่อการติดเชื้อโควิด ]\")\n",
    "        hospital()\n",
    "    else:\n",
    "        print(\"[  ท่านมีความเสี่ยงต่ำในการติดเชื้อ ]\")\n",
    "        print(\"\\n\",\" \"*25,\"<< การป้องกันตัวที่ถูกต้องจากโควิด >>\\n\")\n",
    "        for i in range(len(database['protect'])):\n",
    "            print(f\"{i+1}.\\t {database['protect'][i]}\")\n",
    "        \n",
    "def Main():\n",
    "    Window1()\n",
    "    Window2()\n",
    "    Window3()\n",
    "    Window4()\n",
    "    sumUp()\n",
    "    \n",
    "Main()"
   ]
  }
 ],
 "metadata": {
  "kernelspec": {
   "display_name": "Python 3",
   "language": "python",
   "name": "python3"
  },
  "language_info": {
   "codemirror_mode": {
    "name": "ipython",
    "version": 3
   },
   "file_extension": ".py",
   "mimetype": "text/x-python",
   "name": "python",
   "nbconvert_exporter": "python",
   "pygments_lexer": "ipython3",
   "version": "3.9.1"
  }
 },
 "nbformat": 4,
 "nbformat_minor": 5
}
